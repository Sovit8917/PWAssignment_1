{
  "nbformat": 4,
  "nbformat_minor": 0,
  "metadata": {
    "colab": {
      "provenance": [],
      "authorship_tag": "ABX9TyNDr4jRjWs7iEaPmz/ugiJn",
      "include_colab_link": true
    },
    "kernelspec": {
      "name": "python3",
      "display_name": "Python 3"
    },
    "language_info": {
      "name": "python"
    }
  },
  "cells": [
    {
      "cell_type": "markdown",
      "metadata": {
        "id": "view-in-github",
        "colab_type": "text"
      },
      "source": [
        "<a href=\"https://colab.research.google.com/github/Sovit8917/PWAssignment_1/blob/main/Assignment1.ipynb\" target=\"_parent\"><img src=\"https://colab.research.google.com/assets/colab-badge.svg\" alt=\"Open In Colab\"/></a>"
      ]
    },
    {
      "cell_type": "markdown",
      "source": [
        "Assignment Code: FSD-AG-001\n"
      ],
      "metadata": {
        "id": "if5u-s95i9tA"
      }
    },
    {
      "cell_type": "markdown",
      "source": [
        "***Question 1 :*** **Explain the basic structure of an HTML page. Why is it important to follow this structure?**"
      ],
      "metadata": {
        "id": "y_7z1tHejPS4"
      }
    },
    {
      "cell_type": "code",
      "source": [
        "<!DOCTYPE html>\n",
        "<html lang=\"en\">\n",
        "<head>\n",
        "  <meta charset=\"UTF-8\">\n",
        "  <meta name=\"viewport\" content=\"width=device-width, initial-scale=1.0\">\n",
        "  <title>Document</title>\n",
        "</head>\n",
        "<body>\n",
        "\n",
        "</body>\n",
        "</html>"
      ],
      "metadata": {
        "id": "i-P1925rL1Pc"
      },
      "execution_count": null,
      "outputs": []
    },
    {
      "cell_type": "code",
      "source": [
        "<!DOCTYPE html>:"
      ],
      "metadata": {
        "id": "P_Sqvp3DmCG1"
      },
      "execution_count": null,
      "outputs": []
    },
    {
      "cell_type": "markdown",
      "source": [
        "- This is the document type declaration for HTML5. It tells the browser that the page is written using the HTML5 standard. It's crucial for ensuring the browser renders the page in \"standards mode."
      ],
      "metadata": {
        "id": "3Nm4IRZ8kqr1"
      }
    },
    {
      "cell_type": "code",
      "source": [
        "<html lang=\"en\">"
      ],
      "metadata": {
        "id": "Tkij4cNjmr2d"
      },
      "execution_count": null,
      "outputs": []
    },
    {
      "cell_type": "markdown",
      "source": [
        " - This an attribute that specifies the primary language of the document as English. This is important for search engines, helping them understand the content's language."
      ],
      "metadata": {
        "id": "IuluOQ63merz"
      }
    },
    {
      "cell_type": "code",
      "source": [
        "<head>\n",
        "</head>"
      ],
      "metadata": {
        "id": "O56ZpxbEnCnL"
      },
      "execution_count": null,
      "outputs": []
    },
    {
      "cell_type": "markdown",
      "source": [
        "- This is the head sections of the html document"
      ],
      "metadata": {
        "id": "9QrLf09Zm1m7"
      }
    },
    {
      "cell_type": "markdown",
      "source": [
        "- It contains metadata about the HTML document, which is information not directly displayed on the web page itself."
      ],
      "metadata": {
        "id": "K48UlOSLnVJR"
      }
    },
    {
      "cell_type": "markdown",
      "source": [],
      "metadata": {
        "id": "vVyFxRbsnPc8"
      }
    },
    {
      "cell_type": "code",
      "source": [
        "<meta charset=\"UTF-8\">"
      ],
      "metadata": {
        "id": "qVg6vY5Ynco3"
      },
      "execution_count": null,
      "outputs": []
    },
    {
      "cell_type": "markdown",
      "source": [
        "- This is a meta tag that specifies the character encoding for the document. UTF-8 is a universal character set that supports almost all characters and symbols in the world, preventing issues with displaying special characters."
      ],
      "metadata": {
        "id": "C3lUMwwHnlhV"
      }
    },
    {
      "cell_type": "code",
      "source": [
        "<meta name=\"viewport\" content=\"width=device-width, initial-scale=1.0\">"
      ],
      "metadata": {
        "id": "Xq8st6rrnvBn"
      },
      "execution_count": null,
      "outputs": []
    },
    {
      "cell_type": "code",
      "source": [
        "meta name=\"viewport"
      ],
      "metadata": {
        "id": "uonbk4pFogBN"
      },
      "execution_count": null,
      "outputs": []
    },
    {
      "cell_type": "markdown",
      "source": [
        "- This tag is used for responsive web design"
      ],
      "metadata": {
        "id": "XhvsEpGEn6qb"
      }
    },
    {
      "cell_type": "code",
      "source": [
        "content=\"width=device-width"
      ],
      "metadata": {
        "id": "6wvhNDdIoHwo"
      },
      "execution_count": null,
      "outputs": []
    },
    {
      "cell_type": "markdown",
      "source": [
        " - Set the width of the viewport"
      ],
      "metadata": {
        "id": "2uKyoFa0op7d"
      }
    },
    {
      "cell_type": "code",
      "source": [
        "initial-scale=1.0\""
      ],
      "metadata": {
        "id": "NE5OG1kloyYw"
      },
      "execution_count": null,
      "outputs": []
    },
    {
      "cell_type": "markdown",
      "source": [
        "- Set the initial zoom level to 1, meaning no zoom is applied when the page first loads."
      ],
      "metadata": {
        "id": "i2Tn6Xxzo8Un"
      }
    },
    {
      "cell_type": "code",
      "source": [
        "<title>Document</title>"
      ],
      "metadata": {
        "id": "aftvea7KpSST"
      },
      "execution_count": null,
      "outputs": []
    },
    {
      "cell_type": "markdown",
      "source": [
        "- This tag defines the title of the document."
      ],
      "metadata": {
        "id": "uXivoCx7pT0X"
      }
    },
    {
      "cell_type": "code",
      "source": [
        "<body>"
      ],
      "metadata": {
        "id": "JSLBTquOpnwH"
      },
      "execution_count": null,
      "outputs": []
    },
    {
      "cell_type": "markdown",
      "source": [
        "- This is the body section of the document."
      ],
      "metadata": {
        "id": "QYL9jfT7pmRd"
      }
    },
    {
      "cell_type": "markdown",
      "source": [
        "**Why is it important to follow this structure?**\n",
        "- Browser Understanding: It tells browsers how to correctly interpret and display the page, ensuring consistent rendering across different devices and platforms.\n",
        "\n",
        "- SEO: Search engines use this structure (especially titles and meta tags) to understand page content for better ranking.\n",
        "\n",
        "- Accessibility: It provides a logical structure that screen readers and assistive technologies rely on to make content usable for everyone.\n",
        "\n",
        "- Maintainability: A well-organized structure makes the code easier to read, debug, and update for developers.\n",
        "\n",
        "- Responsive Design: Elements like the viewport meta tag are essential for adapting your page to various screen sizes."
      ],
      "metadata": {
        "id": "YzZAe5fare7_"
      }
    },
    {
      "cell_type": "markdown",
      "source": [
        "***Question 2:*** **You’re building a small personal profile page. Which HTML tags will you use to highlight your name as a heading, describe yourself in a paragraph, and emphasize a key skill?**"
      ],
      "metadata": {
        "id": "-TsfBJGhsQtY"
      }
    },
    {
      "cell_type": "code",
      "source": [
        "<!DOCTYPE html>\n",
        "<html lang=\"en\">\n",
        "<head>\n",
        "    <meta charset=\"UTF-8\">\n",
        "    <meta name=\"viewport\" content=\"width=device-width, initial-scale=1.0\">\n",
        "    <title>Personal-Profile</title>\n",
        "</head>\n",
        "<body>\n",
        "    <header>\n",
        "        <h1>\n",
        "            Sovita Sarbeswar Lenka\n",
        "        </h1>\n",
        "            <p>Web Developer</p>\n",
        "    </header>\n",
        "    <main>\n",
        "        <section>\n",
        "            <h2>About Me</h2>\n",
        "            <p>I am a passionate web developer with a keen interest in front-end technologies and user experience. I enjoy creating engaging and accessible websites.</p>\n",
        "        </section>\n",
        "        <section>\n",
        "            <h2>Skills</h2>\n",
        "            <p>My key skill is <strong>JavaScript</strong> development.</p>\n",
        "            <p>I particularly enjoy working with <em>React.js</em>.</p>\n",
        "        </section>\n",
        "        <p>I have strong experience in <mark>responsive web design</mark>.</p>\n",
        "    </main>\n",
        "</body>\n",
        "</html>"
      ],
      "metadata": {
        "collapsed": true,
        "id": "-wi9vFPawjr6"
      },
      "execution_count": null,
      "outputs": []
    },
    {
      "cell_type": "markdown",
      "source": [
        "***Question 3:*** **Look at the code below. Can you find and fix the mistake?**\n"
      ],
      "metadata": {
        "id": "LjZGrNdtwm2V"
      }
    },
    {
      "cell_type": "code",
      "source": [
        "<!-- This is an HTML comment\n",
        "<h1>Welcome to my website</h1>"
      ],
      "metadata": {
        "id": "Q1bdTDYPxLWL"
      },
      "execution_count": null,
      "outputs": []
    },
    {
      "cell_type": "markdown",
      "source": [
        "- Here is the fix of this"
      ],
      "metadata": {
        "id": "Z1Yav_QnxOK-"
      }
    },
    {
      "cell_type": "code",
      "source": [
        "<!DOCTYPE html>\n",
        "<html lang=\"en\">\n",
        "<head>\n",
        "    <meta charset=\"UTF-8\">\n",
        "    <meta name=\"viewport\" content=\"width=device-width, initial-scale=1.0\">\n",
        "    <title>Document</title>\n",
        "</head>\n",
        "<body>\n",
        "    <!-- This is an HTML comment -->\n",
        "    <h1>Welcome to my website</h1>\n",
        "</body>\n",
        "</html>"
      ],
      "metadata": {
        "id": "isoccl3lyJe9"
      },
      "execution_count": null,
      "outputs": []
    },
    {
      "cell_type": "markdown",
      "source": [
        "***Question 4:*** **You’re creating a form that asks the user to enter their name, select their country from a list, and click a button to submit. Write the HTML code for this.**"
      ],
      "metadata": {
        "id": "QoVyMEMo34ja"
      }
    },
    {
      "cell_type": "code",
      "source": [
        "<!DOCTYPE html>\n",
        "<html lang=\"en\">\n",
        "<head>\n",
        "    <meta charset=\"UTF-8\">\n",
        "    <meta name=\"viewport\" content=\"width=device-width, initial-scale=1.0\">\n",
        "    <title>Document</title>\n",
        "</head>\n",
        "<body>\n",
        "    <form>\n",
        "        <label for=\"Name\">Name:</label>\n",
        "        <input type=\"text\" id=\"name\" name=\"Name\" placeholder=\"Enter Your Name\">\n",
        "        <br>\n",
        "        <br>\n",
        "        <label for=\"countrySelect\">Choose a Country:</label>\n",
        "        <input list=\"Country\">\n",
        "        <datalist id=\"Country\">\n",
        "            <option value=\"india\"></option>\n",
        "            <option value=\"China\"></option>\n",
        "            <option value=\"Japan\"></option>\n",
        "            <option value=\"England\"></option>\n",
        "            <option value=\"Russia\"></option>\n",
        "            <option value=\"France\"></option>\n",
        "            <option value=\"Italy\"></option>\n",
        "            <option value=\"Germany\"></option>\n",
        "            <option value=\"Canada\"></option>\n",
        "            <option value=\"Tureky\"></option>\n",
        "        </datalist>\n",
        "        <br><br>\n",
        "        <button>Submit</button>\n",
        "    </form>\n",
        "</body>\n",
        "</html>"
      ],
      "metadata": {
        "id": "wC0FrpNc3-TZ",
        "collapsed": true
      },
      "execution_count": null,
      "outputs": []
    },
    {
      "cell_type": "markdown",
      "source": [
        "***Question 5:*** **Write short HTML code to show your favorite fruits in a bulleted list and your top 3 programming languages in a numbered list.**"
      ],
      "metadata": {
        "id": "C5Dp56cw9pdy"
      }
    },
    {
      "cell_type": "code",
      "source": [
        "<!DOCTYPE html>\n",
        "<html lang=\"en\">\n",
        "<head>\n",
        "    <meta charset=\"UTF-8\">\n",
        "    <meta name=\"viewport\" content=\"width=device-width, initial-scale=1.0\">\n",
        "    <title>My Favorites</title>\n",
        "</head>\n",
        "<body>\n",
        "    <h1>My Favorites</h1>\n",
        "\n",
        "    <h2>My Favorite Fruits</h2>\n",
        "    <ul>\n",
        "        <li>Mangoes</li>\n",
        "        <li>Strawberries</li>\n",
        "        <li>Grapes</li>\n",
        "        <li>Watermelon</li>\n",
        "        <li>Bananas</li>\n",
        "    </ul>\n",
        "\n",
        "    <h2>My Top 3 Programming Languages</h2>\n",
        "    <ol>\n",
        "        <li>Python</li>\n",
        "        <li>JavaScript</li>\n",
        "        <li>Go</li>\n",
        "    </ol>\n",
        "</body>\n",
        "</html>\n"
      ],
      "metadata": {
        "id": "VteeKtM-_f08"
      },
      "execution_count": null,
      "outputs": []
    },
    {
      "cell_type": "markdown",
      "source": [
        "***Question 6:*** **Ravi wants to leave a note in his HTML file so that only other developers can see it, not the users on the website. How should he do this? Why are such notes useful?**"
      ],
      "metadata": {
        "id": "PyoFVoq0BmSZ"
      }
    },
    {
      "cell_type": "code",
      "source": [
        "<!-- Question 6: Ravi wants to leave a note in his HTML file so that only other developers\n",
        "can see it, not the users on the website. How should he do this? Why are such notes\n",
        "useful?  -->\n",
        "\n",
        "<!DOCTYPE html>\n",
        "<html lang=\"en\">\n",
        "<head>\n",
        "    <meta charset=\"UTF-8\">\n",
        "    <meta name=\"viewport\" content=\"width=device-width, initial-scale=1.0\">\n",
        "    <title>My Favorites</title>\n",
        "</head>\n",
        "<body>\n",
        "    <!-- This is heading 1 -->\n",
        "    <h1>My Favorites</h1>\n",
        "\n",
        "    <!-- This is heading 2 -->\n",
        "    <h2>My Favorite Fruits</h2>\n",
        "    <!-- This is Bullet list -->\n",
        "    <ul>\n",
        "        <li>Mangoes</li>\n",
        "        <li>Strawberries</li>\n",
        "        <li>Grapes</li>\n",
        "        <li>Watermelon</li>\n",
        "        <li>Bananas</li>\n",
        "    </ul>\n",
        "    <!-- This is heading ta -->\n",
        "    <h2>My Top 3 Programming Languages</h2>\n",
        "    <!-- This is Number list -->\n",
        "    <ol>\n",
        "        <li>Python</li>\n",
        "        <li>JavaScript</li>\n",
        "        <li>Go</li>\n",
        "    </ol>\n",
        "</body>\n",
        "</html>\n"
      ],
      "metadata": {
        "id": "nYm4tdWvBryT"
      },
      "execution_count": null,
      "outputs": []
    },
    {
      "cell_type": "markdown",
      "source": [
        "- Code Explanation and Clarity:  Comments help explain complex or non-obvious parts of the code. This is especially useful when multiple developers are working on the same project or when a developer revisits their own code after a long time. They act as internal documentation."
      ],
      "metadata": {
        "id": "Bmrig5peB-X4"
      }
    },
    {
      "cell_type": "markdown",
      "source": [
        "***Question 7:*** **Here’s a form snippet. Can you spot the error and rewrite the correct version?**"
      ],
      "metadata": {
        "id": "ni_fI5QOEzgQ"
      }
    },
    {
      "cell_type": "code",
      "source": [
        "<form>\n",
        "    <input name=\"email\">\n",
        "    <select>\n",
        "        <option>India</option>\n",
        "    </select>\n",
        "    <button>send</button>\n",
        "</form>"
      ],
      "metadata": {
        "id": "ld2weGaBExOV"
      },
      "execution_count": null,
      "outputs": []
    },
    {
      "cell_type": "markdown",
      "source": [
        "- Here is the correct version of html file:"
      ],
      "metadata": {
        "id": "TIiIJkO_E7AZ"
      }
    },
    {
      "cell_type": "code",
      "source": [
        "<!DOCTYPE html>\n",
        "<html lang=\"en\">\n",
        "<head>\n",
        "    <meta charset=\"UTF-8\">\n",
        "    <meta name=\"viewport\" content=\"width=device-width, initial-scale=1.0\">\n",
        "    <title>Document</title>\n",
        "</head>\n",
        "<body>\n",
        "    <form>\n",
        "    <input type=\"email\">\n",
        "    <select>\n",
        "        <option>India</option>\n",
        "    </select>\n",
        "    <button>send</button>\n",
        "</form>\n",
        "</body>\n",
        "</html>"
      ],
      "metadata": {
        "id": "OehAGFZ8FKzr"
      },
      "execution_count": null,
      "outputs": []
    },
    {
      "cell_type": "markdown",
      "source": [
        "#Thank You 💙\n"
      ],
      "metadata": {
        "id": "8DK-WWyjFuny"
      }
    }
  ]
}